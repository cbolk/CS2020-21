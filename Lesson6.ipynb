{
 "cells": [
  {
   "cell_type": "markdown",
   "metadata": {},
   "source": [
    "# Lesson 6\n",
    "+ dictionaries\n"
   ]
  },
  {
   "cell_type": "markdown",
   "metadata": {},
   "source": [
    "### Anagrams\n",
    "Write a program that receives two strings and computes and prints out True if the the strings are anagrams, False otherwise\n"
   ]
  },
  {
   "cell_type": "code",
   "execution_count": 1,
   "metadata": {},
   "outputs": [
    {
     "name": "stdout",
     "output_type": "stream",
     "text": [
      "house\n",
      "shoe\n",
      "False\n"
     ]
    }
   ],
   "source": [
    "USED = '+'\n",
    "NOTUSED = ' '\n",
    "str1 = raw_input('')\n",
    "str2 = raw_input('')\n",
    "\n",
    "len1 = len(str1)\n",
    "len2 = len(str2)\n",
    "\n",
    "if len1 != len2:\n",
    "\tisAnagramma = False\n",
    "else:\n",
    "\tcarattere = []\n",
    "\tfor i in range(len1):\n",
    "\t\tcarattere.append(NONUSATO)\n",
    "\n",
    "\teAnagramma = True\n",
    "\ti = 0\n",
    "\twhile i < len1 and eAnagramma == True:\n",
    "\t\ttrovato = False\n",
    "\t\tj = 0\n",
    "\t\twhile (j < len2) and (trovato == False):\n",
    "\t\t\tif (str1[i] == str2[j]) and (carattere[j] == NOTUSED):\n",
    "\t\t\t\tcarattere[j] = USED\n",
    "\t\t\t\ttrovato = True\n",
    "\t\t\telse:\n",
    "\t\t\t\tj = j + 1\n",
    "\t\tif not trovato:\n",
    "\t\t\teAnagramma = False\n",
    "\t\t\t#significa che il carattere str1[i] non compare in str2\n",
    "\t\t\t#oppure e' gia' stato usato\n",
    "\t\t\t#quindi sappiamo che non e' un anagramma .. inutile continuare\n",
    "\t\telse:\n",
    "\t\t\ti = i + 1\n",
    "print eAnagramma\n",
    "\n"
   ]
  },
  {
   "cell_type": "code",
   "execution_count": null,
   "metadata": {},
   "outputs": [],
   "source": []
  }
 ],
 "metadata": {
  "kernelspec": {
   "display_name": "Python 2",
   "language": "python",
   "name": "python2"
  },
  "language_info": {
   "codemirror_mode": {
    "name": "ipython",
    "version": 2
   },
   "file_extension": ".py",
   "mimetype": "text/x-python",
   "name": "python",
   "nbconvert_exporter": "python",
   "pygments_lexer": "ipython2",
   "version": "2.7.16"
  }
 },
 "nbformat": 4,
 "nbformat_minor": 2
}
