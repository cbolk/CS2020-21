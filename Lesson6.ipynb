{
 "cells": [
  {
   "cell_type": "markdown",
   "metadata": {},
   "source": [
    "# Lesson 6\n",
    "+ subprograms\n"
   ]
  },
  {
   "cell_type": "markdown",
   "metadata": {},
   "source": [
    "### Anagrams\n",
    "Write a program that receives two strings and computes and prints out True if the the strings are anagrams, False otherwise\n"
   ]
  },
  {
   "cell_type": "code",
   "execution_count": 1,
   "metadata": {},
   "outputs": [
    {
     "name": "stdout",
     "output_type": "stream",
     "text": [
      "house\n",
      "shoe\n",
      "False\n"
     ]
    }
   ],
   "source": [
    "USED = '+'\n",
    "NOTUSED = ' '\n",
    "word1 = raw_input('')\t\t\t# h o u s e\n",
    "word2 = raw_input('')\t\t\t# s h o e s\n",
    "\n",
    "letter = []\t\t\t\t\t\t#          \n",
    "len1 = 0\n",
    "for c in word1:\n",
    "\tletter.append(NOTUSED)\n",
    "\tlen1 += 1\n",
    "\n",
    "len2 = len(word2)\n",
    "if len1 == len2:\n",
    "\tisAnag = True\n",
    "\ti = 0\n",
    "\twhile i < len1 and isAnag == True:\n",
    "\t\tfound = False\n",
    "\t\tj = 0\n",
    "\t\twhile j < len2 and not found:\n",
    "\t\t\tif (word1[i] == word2[j]) and (letter[j] == NOTUSED):\n",
    "\t\t\t\tletter[j] = USED\n",
    "\t\t\t\tfound = True\n",
    "\t\t\telse:\n",
    "\t\t\t\tj += 1\n",
    "\t\tif not found:\n",
    "\t\t\tisAnag = False\n",
    "\t\telse:\n",
    "\t\t\ti += 1\n",
    "else:\n",
    "\tisAnag = False\n",
    "print isAnag"
   ]
  },
  {
   "cell_type": "markdown",
   "metadata": {},
   "source": [
    "### All anagrams of a word\n",
    "Writa a program that asks the user a word and prints out all its anagrams found in the dictionary.\n",
    "The English dictionary file is [dictionary.txt](https://bolchini.faculty.polimi.it/classes/cs/files/dictionary.txt)"
   ]
  },
  {
   "cell_type": "code",
   "execution_count": 13,
   "metadata": {},
   "outputs": [
    {
     "name": "stdout",
     "output_type": "stream",
     "text": [
      "cars\n",
      "scar\n",
      "srac\n"
     ]
    }
   ],
   "source": [
    "USED = '+'\n",
    "NOTUSED = ' '\n",
    "FILEDICT = \"dictionary.txt\"\n",
    "\n",
    "userword = raw_input()\n",
    "\n",
    "#prepare the counter of characters ...\n",
    "letter = []\t\t\t\t\t\t#          \n",
    "len1 = 0\n",
    "for c in userword:\n",
    "\tletter.append(NOTUSED)\n",
    "\tlen1 += 1\n",
    " \n",
    "f = open(FILEDICT, \"r\")\n",
    "for worddict in f:\n",
    "    worddict = worddict.strip()\n",
    "    len2 = len(worddict)\n",
    "    if len1 == len2 and userword != worddict:\n",
    "        isAnag = True\n",
    "        i = 0\n",
    "        while i < len1 and isAnag == True:\n",
    "            found = False\n",
    "            j = 0\n",
    "            while j < len2 and not found:\n",
    "                if (userword[i] == worddict[j]) and (letter[j] == NOTUSED):\n",
    "                    letter[j] = USED\n",
    "                    found = True\n",
    "                else:\n",
    "                    j += 1\n",
    "            if not found:\n",
    "                isAnag = False\n",
    "            else:\n",
    "                i += 1\n",
    "        letter = [NOTUSED]*len1\n",
    "    else:\n",
    "        isAnag = False\n",
    "    if isAnag:\n",
    "        print(worddict)\n",
    "f.close()"
   ]
  },
  {
   "cell_type": "markdown",
   "metadata": {},
   "source": [
    "Define a subprogram to perform the analysis"
   ]
  },
  {
   "cell_type": "code",
   "execution_count": null,
   "metadata": {},
   "outputs": [],
   "source": [
    "def isAnagram(word1, word2):\n",
    "    USED = '+'\n",
    "    NOTUSED = ' '\n",
    "    letter = []\t\t\t\t\t\t#          \n",
    "    len1 = 0\n",
    "    for c in word1:\n",
    "        letter.append(NOTUSED)\n",
    "        len1 += 1\n",
    "\n",
    "    len2 = len(word2)\n",
    "    if len1 == len2:\n",
    "        isAnag = True\n",
    "        i = 0\n",
    "        while i < len1 and isAnag == True:\n",
    "            found = False\n",
    "            j = 0\n",
    "            while j < len2 and not found:\n",
    "                if (word1[i] == word2[j]) and (letter[j] == NOTUSED):\n",
    "                    letter[j] = USED\n",
    "                    found = True\n",
    "                else:\n",
    "                    j += 1\n",
    "            if not found:\n",
    "                isAnag = False\n",
    "            else:\n",
    "                i += 1\n",
    "    else:\n",
    "        isAnag = False\n",
    "    return isAnag"
   ]
  },
  {
   "cell_type": "code",
   "execution_count": 15,
   "metadata": {},
   "outputs": [
    {
     "name": "stdout",
     "output_type": "stream",
     "text": [
      "cars\n",
      "scar\n",
      "srac\n"
     ]
    }
   ],
   "source": [
    "USED = '+'\n",
    "NOTUSED = ' '\n",
    "FILEDICT = \"dictionary.txt\"\n",
    "\n",
    "def isAnagram(word1, word2):\n",
    "    USED = '+'\n",
    "    NOTUSED = ' '\n",
    "    letter = []\t\t\t\t\t\t#          \n",
    "    len1 = 0\n",
    "    for c in word1:\n",
    "        letter.append(NOTUSED)\n",
    "        len1 += 1\n",
    "\n",
    "    len2 = len(word2)\n",
    "    if len1 == len2:\n",
    "        isAnag = True\n",
    "        i = 0\n",
    "        while i < len1 and isAnag == True:\n",
    "            found = False\n",
    "            j = 0\n",
    "            while j < len2 and not found:\n",
    "                if (word1[i] == word2[j]) and (letter[j] == NOTUSED):\n",
    "                    letter[j] = USED\n",
    "                    found = True\n",
    "                else:\n",
    "                    j += 1\n",
    "            if not found:\n",
    "                isAnag = False\n",
    "            else:\n",
    "                i += 1\n",
    "    else:\n",
    "        isAnag = False\n",
    "    return isAnag\n",
    "\n",
    "userword = raw_input()\n",
    " \n",
    "f = open(FILEDICT, \"r\")\n",
    "for worddict in f:\n",
    "    worddict = worddict.strip()\n",
    "    if userword != worddict and isAnagram(userword, worddict):\n",
    "        print(worddict)\n",
    "f.close()\n"
   ]
  },
  {
   "cell_type": "markdown",
   "metadata": {},
   "source": [
    "## program organization\n",
    "\n",
    "`\n",
    "def sub():\n",
    "\n",
    "def main():\n",
    "   \n",
    "\n",
    "if __name__ == \"__main__\":\n",
    "\tmain()\n",
    "`\n"
   ]
  },
  {
   "cell_type": "markdown",
   "metadata": {},
   "source": [
    "### Quantiles\n",
    "Define a function `quantile` that receives a list of values and computes and returns the three quantiles."
   ]
  },
  {
   "cell_type": "code",
   "execution_count": 24,
   "metadata": {},
   "outputs": [
    {
     "name": "stdout",
     "output_type": "stream",
     "text": [
      "[2, 4, 4, 3, 8, 1, 0, 2, 7, 3, 5, 6, 8, 0, 1]\n",
      "(1, 3, 6)\n"
     ]
    }
   ],
   "source": [
    "def quantile(datalist):\n",
    "    \n",
    "    sortedlist = datalist[:]     # <<<<<\n",
    "    sortedlist.sort()\n",
    "    numvalues = len(sortedlist)\n",
    "    \n",
    "    middle = numvalues / 2 \n",
    "    th25 = numvalues / 4 \n",
    "    th75 = numvalues * 3 / 4 \n",
    "    q2 = sortedlist[middle]\n",
    "    q1 = sortedlist[th25]\n",
    "    q3 = sortedlist[th75]\n",
    "\n",
    "    return q1, q2, q3\n",
    "\n",
    "\n",
    "listofvalues = [2,4,4,3,8,1,0,2,7,3,5,6,8,0,1]\n",
    "ris1, ris2, ris3 = quantile(listofvalues)\n",
    "print(listofvalues)\n",
    "print(ris1, ris2, ris3)\n"
   ]
  },
  {
   "cell_type": "markdown",
   "metadata": {},
   "source": []
  }
 ],
 "metadata": {
  "kernelspec": {
   "display_name": "Python 2",
   "language": "python",
   "name": "python2"
  },
  "language_info": {
   "codemirror_mode": {
    "name": "ipython",
    "version": 2
   },
   "file_extension": ".py",
   "mimetype": "text/x-python",
   "name": "python",
   "nbconvert_exporter": "python",
   "pygments_lexer": "ipython2",
   "version": "2.7.16"
  }
 },
 "nbformat": 4,
 "nbformat_minor": 2
}
