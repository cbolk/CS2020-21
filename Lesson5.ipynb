{
 "cells": [
  {
   "cell_type": "markdown",
   "metadata": {},
   "source": [
    "# Lesson 5 - 2020-11-10\n",
    "\n",
    "+ files\n",
    "+ dictionaries\n",
    "\n"
   ]
  },
  {
   "cell_type": "markdown",
   "metadata": {},
   "source": [
    "### Neurons' length\n",
    "Write a program that receives in input the name of the file containing the length of neurons, and it computes and outputs minimal and maximal lengths, average and standard deviation."
   ]
  },
  {
   "cell_type": "code",
   "execution_count": null,
   "metadata": {},
   "outputs": [],
   "source": []
  },
  {
   "cell_type": "markdown",
   "metadata": {},
   "source": [
    "### Primary and secondary neurons\n",
    "Write a program that receives in input the name of the file containing neurons' length and type, organized as pairs _type_ length\n",
    "where _type_ is either 'P' (primary) or 'S' (secondary)\n",
    "The program computes the three longest lenghts for primary neurons"
   ]
  },
  {
   "cell_type": "code",
   "execution_count": null,
   "metadata": {},
   "outputs": [],
   "source": []
  },
  {
   "cell_type": "markdown",
   "metadata": {},
   "source": [
    "### DNA subsequences\n",
    "Write a program that receives in input the name of a file containing DNA sequence associated with given coordinates and stores them in a dictionary for efficient manipulation.\n",
    "The file is organized as:\n",
    ">chr1:7028942-7029241_5'pad=0_\n",
    "ACAACCTCCCACATTTTTCTGGCTGGCTTGGTTGGACCTGGAACAGCAGG\n",
    "AGGCCAGGATACCAGAGCCTCCCAAGTCCCAGAGAACTCCCAAAGGGTCT\n",
    "CCCAGCTGCCGGAGGCTTCCAGAGGGAGGGAGTGCCACATGGGAGCTGTC\n",
    "CGTGGTTCTTGTGGCTGAAATTGGCAGGGCTCCATGGTGCTCACTGGCAA\n",
    "GGGCTGCAGCAGCCTGGGGCTGCCGTCTGTGTTCCATCCCGGATGCAGCT\n",
    "GATGTGCTCACTCTGCAGACATTTCTTAGTGCCTAACTCTGCTGGCCAgg\n",
    ">chr1:7057999-7058298_5'pad=0_\n",
    "tcaggaaacaatgttacctatggtgcactttgatactttccactccactc\n",
    "cgttccatttgattaaaacaataccaatttccactttaaattggtttcag\n",
    "gactcactggttaccacaaactgcagAAGTCAAATTGCTGCCCTGGAGCA\n",
    "CAGCGTTGGTTCAGCACCAAGGACAGCAGCCCATCGCTCCCTTCCCGGCC\n",
    "CTGTGCTCTTCCTTCCCTGCTGTCACATTTTGGTTCCTTATTCTGACTTC\n",
    "TCCAGCCTGTGTTGACCTGGCTCTTCTTTGACTTCCCGTGGTGCACTTTC\n"
   ]
  },
  {
   "cell_type": "markdown",
   "metadata": {},
   "source": [
    "### DNA complement\n",
    "Write a program that receives in input two file names: the first contains a DNA sequence and the second one is where the program save the DNA complement once it computed it."
   ]
  },
  {
   "cell_type": "code",
   "execution_count": null,
   "metadata": {},
   "outputs": [],
   "source": [
    "DNACOMPLEMENT = {'A': 'T', 'C': 'G', 'G': 'C', 'T': 'A'}   #is it efficient or is it ok just to store half of it?\n",
    "#as an alternative\n",
    "#DNAOLD = \"ACGT\"\n",
    "#DNANEW = \"TGCA\"\n",
    "#https://biopython.org/"
   ]
  },
  {
   "cell_type": "markdown",
   "metadata": {},
   "source": [
    "### Palindrome Neuclotid Sequence\n",
    "Write a program that receives in input a sequence of 6 neuclotids and computes and outputs True if it is a palindrome with respect to DNA sequence matching.\n",
    "For example: CACGTG is a palindrome"
   ]
  }
 ],
 "metadata": {
  "kernelspec": {
   "display_name": "Python 3",
   "language": "python",
   "name": "python3"
  },
  "language_info": {
   "codemirror_mode": {
    "name": "ipython",
    "version": 3
   },
   "file_extension": ".py",
   "mimetype": "text/x-python",
   "name": "python",
   "nbconvert_exporter": "python",
   "pygments_lexer": "ipython3",
   "version": "3.8.5"
  }
 },
 "nbformat": 4,
 "nbformat_minor": 2
}
