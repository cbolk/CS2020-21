{
 "cells": [
  {
   "cell_type": "markdown",
   "metadata": {},
   "source": [
    "Write a program that asks the user two filenames, the source file and the destination one and copies the content of the source into the destination file, using the try-except pattern."
   ]
  },
  {
   "cell_type": "code",
   "execution_count": null,
   "metadata": {},
   "outputs": [],
   "source": [
    "try:\n",
    "\tfin = open(name, \"r\")\n",
    "except IOError:\n",
    "\tprint(\"error opening file \" + name)\n",
    "else:\n",
    "\tfor line in fin:\n",
    "\t\t…\n",
    "\tfin.close()"
   ]
  },
  {
   "cell_type": "code",
   "execution_count": null,
   "metadata": {},
   "outputs": [],
   "source": []
  },
  {
   "cell_type": "code",
   "execution_count": 2,
   "metadata": {},
   "outputs": [
    {
     "name": "stdout",
     "output_type": "stream",
     "text": [
      "test.csv\n",
      "dest.csv\n"
     ]
    },
    {
     "ename": "FileNotFoundError",
     "evalue": "[Errno 2] No such file or directory: 'test.csv'",
     "output_type": "error",
     "traceback": [
      "\u001b[0;31m---------------------------------------------------------------------------\u001b[0m",
      "\u001b[0;31mFileNotFoundError\u001b[0m                         Traceback (most recent call last)",
      "\u001b[0;32m<ipython-input-2-12fdc3075a2b>\u001b[0m in \u001b[0;36m<module>\u001b[0;34m\u001b[0m\n\u001b[1;32m      2\u001b[0m \u001b[0msrcname\u001b[0m \u001b[0;34m=\u001b[0m \u001b[0minput\u001b[0m\u001b[0;34m(\u001b[0m\u001b[0;34m)\u001b[0m \u001b[0;31m# raw_input()\u001b[0m\u001b[0;34m\u001b[0m\u001b[0;34m\u001b[0m\u001b[0m\n\u001b[1;32m      3\u001b[0m \u001b[0mdstname\u001b[0m \u001b[0;34m=\u001b[0m \u001b[0minput\u001b[0m\u001b[0;34m(\u001b[0m\u001b[0;34m)\u001b[0m \u001b[0;31m#raw_input()\u001b[0m\u001b[0;34m\u001b[0m\u001b[0;34m\u001b[0m\u001b[0m\n\u001b[0;32m----> 4\u001b[0;31m \u001b[0mfin\u001b[0m \u001b[0;34m=\u001b[0m \u001b[0mopen\u001b[0m\u001b[0;34m(\u001b[0m\u001b[0msrcname\u001b[0m\u001b[0;34m,\u001b[0m \u001b[0;34m\"r\"\u001b[0m\u001b[0;34m)\u001b[0m\u001b[0;34m\u001b[0m\u001b[0;34m\u001b[0m\u001b[0m\n\u001b[0m\u001b[1;32m      5\u001b[0m \u001b[0mfout\u001b[0m \u001b[0;34m=\u001b[0m \u001b[0mopen\u001b[0m\u001b[0;34m(\u001b[0m\u001b[0mdstname\u001b[0m\u001b[0;34m,\u001b[0m \u001b[0;34m\"w\"\u001b[0m\u001b[0;34m)\u001b[0m\u001b[0;34m\u001b[0m\u001b[0;34m\u001b[0m\u001b[0m\n\u001b[1;32m      6\u001b[0m \u001b[0;32mfor\u001b[0m \u001b[0mline\u001b[0m \u001b[0;32min\u001b[0m \u001b[0mfin\u001b[0m\u001b[0;34m:\u001b[0m\u001b[0;34m\u001b[0m\u001b[0;34m\u001b[0m\u001b[0m\n",
      "\u001b[0;31mFileNotFoundError\u001b[0m: [Errno 2] No such file or directory: 'test.csv'"
     ]
    }
   ],
   "source": [
    "# no exception handling\n",
    "srcname = input() # raw_input()\n",
    "dstname = input() # raw_input()\n",
    "fin = open(srcname, \"r\")\n",
    "fout = open(dstname, \"w\")\n",
    "for line in fin:\n",
    "    fout.write(line)\n",
    "close(fin)\n",
    "close(fout)\n"
   ]
  },
  {
   "cell_type": "code",
   "execution_count": null,
   "metadata": {},
   "outputs": [],
   "source": [
    "srcname = input() # raw_input()\n",
    "dstname = input() # raw_input()\n",
    "try:\n",
    "    fin = open(srcname, \"r\")\n",
    "except IOError: \n",
    "    print(\"problems in accessing file + \" srcname)\n",
    "else:\n",
    "    try:\n",
    "        fout = open(dstname, \"w\")\n",
    "    except: \n",
    "        print(\"problems in accessing file \" + dstname)\n",
    "    else:\n",
    "        for line in fin:\n",
    "            fout.write(line)\n",
    "        fout.close()\n",
    "    finally:\n",
    "        fin.close()\n"
   ]
  },
  {
   "cell_type": "code",
   "execution_count": null,
   "metadata": {},
   "outputs": [],
   "source": [
    "srcname = input() # raw_input()\n",
    "dstname = input() # raw_input()\n",
    "try:\n",
    "    fin = open(srcname, \"r\")\n",
    "    fout = open(dstname, \"w\")\n",
    "except IOError: \n",
    "    print(\"problems in accessing file\")\n",
    "else:\n",
    "    for line in fin:\n",
    "        fout.write(line)\n",
    "    fout.close()\n",
    "    fin.close()\n",
    "\n",
    "    "
   ]
  },
  {
   "cell_type": "code",
   "execution_count": 8,
   "metadata": {},
   "outputs": [],
   "source": [
    "TWOTAILED = 'TTT'\n",
    "ONETAILED = 'OTT'\n",
    "\n",
    "ALPHA05 = '0.05'\n",
    "ALPHA01 = '0.01'\n",
    "\n",
    "namein = \"WilcoxonSRT.csv\" # raw_input()\n",
    "nameout = \"WSRTdf.csv\"  # raw_input()\n",
    "\n",
    "try: \n",
    "\tfin = open(namein, \"r\")\n",
    "except IOError:\n",
    "\tprint(\"impossible to open file \" + namein)\n",
    "else:\n",
    "\ttry:\n",
    "\t\tfout = open(nameout, \"w\")\n",
    "\texcept IOError:\n",
    "\t\tprint(\"impossible to open file \" + nameout)\n",
    "\telse:\n",
    "\t\tfin.readline()\n",
    "\t\tfout.write(\"n,type,alpha,value\\n\")\n",
    "\t\tfor line in fin: \n",
    "\t\t\t# n,TTT05,TTT01,OTT05,OTT01\n",
    "\t\t\t# 5,NaN,NaN,0,NaN\n",
    "\t\t\tvalues = line.strip().split(\",\")\n",
    "\t\t\tfout.write(values[0] + \",\" + TWOTAILED + \",\" + ALPHA05 + \",\" + values[1] + \"\\n\")\n",
    "\t\t\tfout.write(values[0] + \",\" + TWOTAILED + \",\" + ALPHA01 + \",\" + values[2] + \"\\n\")\n",
    "\t\t\tfout.write(values[0] + \",\" + ONETAILED + \",\" + ALPHA05 + \",\" + values[3] + \"\\n\")\n",
    "\t\t\tfout.write(values[0] + \",\" + ONETAILED + \",\" + ALPHA01 + \",\" + values[4] + \"\\n\")\t\n",
    "\t\tfout.close()\n",
    "\tfin.close()\n"
   ]
  },
  {
   "cell_type": "code",
   "execution_count": null,
   "metadata": {},
   "outputs": [],
   "source": [
    "import pandas "
   ]
  },
  {
   "cell_type": "code",
   "execution_count": null,
   "metadata": {},
   "outputs": [],
   "source": []
  }
 ],
 "metadata": {
  "kernelspec": {
   "display_name": "Python 3",
   "language": "python",
   "name": "python3"
  },
  "language_info": {
   "codemirror_mode": {
    "name": "ipython",
    "version": 3
   },
   "file_extension": ".py",
   "mimetype": "text/x-python",
   "name": "python",
   "nbconvert_exporter": "python",
   "pygments_lexer": "ipython3",
   "version": "3.8.3"
  }
 },
 "nbformat": 4,
 "nbformat_minor": 4
}
