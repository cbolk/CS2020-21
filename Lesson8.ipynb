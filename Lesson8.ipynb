{
 "cells": [
  {
   "cell_type": "markdown",
   "metadata": {},
   "source": [
    "# Lesson 8\n",
    "\n",
    "+ data manipulation\n",
    "+ data visualization"
   ]
  },
  {
   "cell_type": "markdown",
   "metadata": {},
   "source": [
    "### Euclidean distance between two 1-D set of observations\n",
    "\n",
    "Write a subprogram that receives in input two lists of observations, u and v, and computes the Euclidean distance, \n",
    "computed as:\n",
    "\n",
    "$$\\sqrt{\\sum_{i=1}^{} w_i|u_i - v_i|^{2})}$$\n"
   ]
  },
  {
   "cell_type": "code",
   "execution_count": 2,
   "metadata": {},
   "outputs": [
    {
     "name": "stdout",
     "output_type": "stream",
     "text": [
      "1.4142135623730951\n"
     ]
    }
   ],
   "source": [
    "def euclideandistance(observ1, observ2):\n",
    "    size = len(observ1)\n",
    "    tot = 0\n",
    "    for i in range(0, size):\n",
    "        tot += abs(observ1[i] - observ2[i])**2\n",
    "    dist = tot**(1/2)\n",
    "    return dist\n",
    "\n",
    "o1 = [0,1,0,1]\n",
    "o2 = [1,1,1,1]\n",
    "\n",
    "d = euclideandistance(o1, o2)\n",
    "print(d)\n"
   ]
  },
  {
   "cell_type": "code",
   "execution_count": 3,
   "metadata": {},
   "outputs": [
    {
     "name": "stdout",
     "output_type": "stream",
     "text": [
      "1.7320508075688772\n"
     ]
    }
   ],
   "source": [
    "def euclideandistance(observ1, observ2):\n",
    "    size = len(observ1)\n",
    "    tot = 0\n",
    "    for i in range(0, size):\n",
    "        tot += abs(observ1[i] - observ2[i])**2\n",
    "    dist = tot**(1/2)\n",
    "    return dist\n",
    "\n",
    "o1 = [0,1,0,1]\n",
    "o2 = [1,0,0,0]\n",
    "\n",
    "d = euclideandistance(o1, o2)\n",
    "print(d)\n"
   ]
  },
  {
   "cell_type": "code",
   "execution_count": 21,
   "metadata": {},
   "outputs": [
    {
     "name": "stdout",
     "output_type": "stream",
     "text": [
      "1.4142135623730951\n"
     ]
    }
   ],
   "source": [
    "### add weigths\n",
    "def euclideandistanceweight(observ1, observ2, weights=None):\n",
    "    size = len(observ1)\n",
    "    tot = 0\n",
    "    for i in range(0, size):\n",
    "        tot += weights[i]*abs(observ1[i] - observ2[i])**2\n",
    "    dist = tot**(1/2)\n",
    "    return dist\n",
    "\n",
    "o1 = [0,1,0,1]\n",
    "o2 = [1,1,1,1]\n",
    "\n",
    "d = euclideandistance(o1, o2)\n",
    "print(d)\n"
   ]
  },
  {
   "cell_type": "markdown",
   "metadata": {},
   "source": [
    "### Manhattan (city block) distance between two 1-D set of observations\n",
    "\n",
    "Write a subprogram that receives in input two lists of observations, u and v, and computes the Manhattan distance, \n",
    "computed as:\n",
    "    \n",
    "$$\\sum_{i=1}^{} |u_i - v_i|$$\n"
   ]
  },
  {
   "cell_type": "code",
   "execution_count": 17,
   "metadata": {},
   "outputs": [
    {
     "name": "stdout",
     "output_type": "stream",
     "text": [
      "8\n"
     ]
    }
   ],
   "source": [
    "def manhattandistance(observ1, observ2):\n",
    "    size = len(observ1)\n",
    "    tot = 0\n",
    "    for i in range(0, size):\n",
    "        tot += abs(observ1[i] - observ2[i])\n",
    "    dist = tot\n",
    "    return dist\n",
    "\n",
    "o1 = [0,1,0,1]\n",
    "o2 = [1,1,7,1]\n",
    "\n",
    "d = manhattandistance(o1, o2)\n",
    "print(d)\n"
   ]
  },
  {
   "cell_type": "markdown",
   "metadata": {},
   "source": [
    "## Hamming distance between two 1-D set of observations\n",
    "\n",
    "Write a subprogram that receives in input two lists of observations, u and v, and computes the Hamming distance, computed as:\n",
    "\n",
    "$$\\sum_{i=1}{} (u_i \\neq v_i)$$"
   ]
  },
  {
   "cell_type": "code",
   "execution_count": 16,
   "metadata": {},
   "outputs": [
    {
     "name": "stdout",
     "output_type": "stream",
     "text": [
      "3\n"
     ]
    }
   ],
   "source": [
    "def hammingdistance(observ1, observ2):\n",
    "    size = len(observ1)\n",
    "    tot = 0\n",
    "    for i in range(0, size):\n",
    "        if observ1[i] != observ2[i]:\n",
    "            tot += 1\n",
    "    dist = tot\n",
    "    return dist\n",
    "\n",
    "o1 = [0,1,0,8]\n",
    "o2 = [1,1,1,0]\n",
    "\n",
    "d = hammingdistance(o1, o2)\n",
    "print(d)"
   ]
  },
  {
   "cell_type": "markdown",
   "metadata": {},
   "source": [
    "## Cosine distance\n",
    "Write a subprogram that receives in input two lists of observations, u and v, and computes the cosine distance, computed as:\n",
    "\n",
    "$$1 - \\frac{\\sum_{i=1}{} u_i v_i}{\\sqrt{\\sum_{i=1}{} u_i^{2}} \\sqrt{\\sum_{i=1}{} v_i^{2}}}$$"
   ]
  },
  {
   "cell_type": "code",
   "execution_count": 30,
   "metadata": {},
   "outputs": [
    {
     "name": "stdout",
     "output_type": "stream",
     "text": [
      "0.9900004999625032\n"
     ]
    }
   ],
   "source": [
    "def cosinedistance(observ1, observ2):\n",
    "    size = len(observ1)\n",
    "    tot = 0\n",
    "    o1sq = 0\n",
    "    o2sq = 0\n",
    "    for i in range(0, size):\n",
    "        tot += observ1[i] * observ2[i]\n",
    "        o1sq += observ1[i]*observ1[i]\n",
    "        o2sq += observ2[i]*observ2[i]\n",
    "    dist = 1 - tot / ((o1sq**(1/2))*(o2sq**(1/2)))\n",
    "    return dist\n",
    "\n",
    "o1 = [100,1,0,0]\n",
    "o2 = [0,1,0,0]\n",
    "\n",
    "d = cosinedistance(o1, o2)\n",
    "print(d)"
   ]
  },
  {
   "cell_type": "markdown",
   "metadata": {},
   "source": [
    "## Distance\n",
    "Write a subprogram that receives in input two set of observations, and the specification of the distance metric to be adopted and returns the computed corresponding metric.\n",
    "Possible values for metric are: euclidean, manhattan, hamming, cosine"
   ]
  },
  {
   "cell_type": "code",
   "execution_count": 20,
   "metadata": {},
   "outputs": [
    {
     "name": "stdout",
     "output_type": "stream",
     "text": [
      "unsupported metric\n",
      "None\n"
     ]
    }
   ],
   "source": [
    "def distance(observ1, observ2, metric):\n",
    "    if metric == 'euclidean':\n",
    "        dis = euclideandistance(observ1, observ2)\n",
    "    elif metric == 'manhattan':\n",
    "        dis = manhattandistance(observ1, observ2)\n",
    "    elif metric == 'hamming':\n",
    "        dis = hammingdistance(observ1, observ2)\n",
    "    elif metric == 'cosine':\n",
    "        dis = cosinedistance(observ1, observ2)\n",
    "    else:\n",
    "        print('unsupported metric')\n",
    "        dis = None\n",
    "    return dis\n",
    "\n",
    "o1 = [0,1,0,8]\n",
    "o2 = [1,1,1,0]\n",
    "\n",
    "d = distance(o1, o2, 'manhattana')\n",
    "print(d)\n",
    "        "
   ]
  },
  {
   "cell_type": "markdown",
   "metadata": {},
   "source": []
  },
  {
   "cell_type": "markdown",
   "metadata": {},
   "source": [
    "## Additional popular packages\n",
    "+ **numpy**: scientific computing with Python - mathematical functions, random number generators, linear algebra routines, Fourier transforms, and more. [https://numpy.org/](https://numpy.org/)\n",
    "+ **scipy**: software for mathematics, science, and engineering  [https://scipy.org/](https://scipy.org/)"
   ]
  },
  {
   "cell_type": "code",
   "execution_count": null,
   "metadata": {},
   "outputs": [],
   "source": []
  }
 ],
 "metadata": {
  "kernelspec": {
   "display_name": "Python 3",
   "language": "python",
   "name": "python3"
  },
  "language_info": {
   "codemirror_mode": {
    "name": "ipython",
    "version": 3
   },
   "file_extension": ".py",
   "mimetype": "text/x-python",
   "name": "python",
   "nbconvert_exporter": "python",
   "pygments_lexer": "ipython3",
   "version": "3.8.3"
  }
 },
 "nbformat": 4,
 "nbformat_minor": 4
}
