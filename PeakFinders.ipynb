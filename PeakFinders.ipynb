{
 "cells": [
  {
   "cell_type": "markdown",
   "metadata": {},
   "source": [
    "# Team project work\n",
    "\n",
    "Write a subprogram that receives in input a **list** of real values representing a sequence, a signal, a line, and identifies peaks, that can be defined as a point in the sequence of values such that:\n",
    "\n",
    "+ the value is higher than the adjacent ones (of a plateau, the first point is identified as a peak) \n",
    "+ the first and last items of the sequence cannot be peaks\n",
    "\n",
    "A plateau is a sequence of points at the same height, higher than the preceding and following points\n",
    "\n",
    "To introduce flexibility, the subprogram receives a second parameter `mph`, to eventually specify that the difference of height between a point and the adjacent ones is greater than a given threshold `mph` (minimum peak height). When the parameter is set to `None`, all peaks are to be computed and returned.\n",
    "\n",
    "The subprogram returns a list of values corresponding to the index of the elements in the sequence corresponding to peaks."
   ]
  },
  {
   "cell_type": "markdown",
   "metadata": {},
   "source": [
    "To have an idea of what it is expected, consider these use cases:\n",
    "\n",
    "+ input (values): [5,1,1.4,1,0.9,1,1,1.1,1,0.9,1,1.1,1,1,0.9,1,1,1.1,5,5,1,1,1.1,0.9,1,1.1,1,1,0.9,1,1.1,1,1,1.1,1,0.8,0.9,1,1.2,0.9,1,1,1.1,1.2,1,1.5,1,1.1,0.9,8,3,2,1,1,1,0.9,1,1,3,2.6,7,3,3.2,2,1,1,0.8,4,4,2,2.5,1,1,1]\n",
    "+ input (mph): None\n",
    "+ output: [2, 18, 38, 43, 45, 49, 58, 60, 62, 67, 70]\n",
    "\n",
    "\n",
    "\n",
    "+ input (values): [5,1,1.4,1,0.9,1,1,1.1,1,0.9,1,1.1,1,1,0.9,1,1,1.1,5,5,1,1,1.1,0.9,1,1.1,1,1,0.9,1,1.1,1,1,1.1,1,0.8,0.9,1,1.2,0.9,1,1,1.1,1.2,1,1.5,1,1.1,0.9,8,3,2,1,1,1,0.9,1,1,3,2.6,7,3,3.2,2,1,1,0.8,4,4,2,2.5,1,1,1]\n",
    "+ input (mph): 1.2\n",
    "+ output: [2, 18, 45, 49, 58, 60, 62, 67, 70]"
   ]
  },
  {
   "cell_type": "markdown",
   "metadata": {},
   "source": [
    "Write a program that receives in input the name of a file, containing a sequence of values (one per line), and plots the sequence of values, highlighting the peaks with a red `+`\n",
    "\n",
    "To have an idea of what it is expected, based on the above set of values, the two images should be obtained.\n",
    "\n",
    "mph = None: \n",
    "![./peakfinder11.png](./peakfinder11.png)\n",
    "\n",
    "mph = 1.2:\n",
    "![](./peakfinder9.png)\n"
   ]
  },
  {
   "cell_type": "code",
   "execution_count": null,
   "metadata": {},
   "outputs": [],
   "source": []
  }
 ],
 "metadata": {
  "kernelspec": {
   "display_name": "Python 3",
   "language": "python",
   "name": "python3"
  },
  "language_info": {
   "codemirror_mode": {
    "name": "ipython",
    "version": 3
   },
   "file_extension": ".py",
   "mimetype": "text/x-python",
   "name": "python",
   "nbconvert_exporter": "python",
   "pygments_lexer": "ipython3",
   "version": "3.8.3"
  }
 },
 "nbformat": 4,
 "nbformat_minor": 4
}
