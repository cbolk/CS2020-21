{
 "cells": [
  {
   "cell_type": "code",
   "execution_count": 4,
   "metadata": {},
   "outputs": [
    {
     "data": {
      "image/png": "[encoded data removed]",
      "text/plain": [
       "<Figure size 432x288 with 1 Axes>"
      ]
     },
     "metadata": {
      "needs_background": "light"
     },
     "output_type": "display_data"
    }
   ],
   "source": [
    "import pandas as pd\n",
    "TWOTAILED = 'TTT'\n",
    "ONETAILED = 'OTT'\n",
    "\n",
    "ALPHA05 = 0.05   \n",
    "ALPHA01 = 0.05   \n",
    "\n",
    "dfw = pd.read_csv(\"./WSRTdf.csv\")\n",
    "boxplot = dfw.boxplot(by='type', column='value', grid = False)\n"
   ]
  },
  {
   "cell_type": "code",
   "execution_count": null,
   "metadata": {},
   "outputs": [],
   "source": []
  },
  {
   "cell_type": "code",
   "execution_count": 8,
   "metadata": {},
   "outputs": [
    {
     "data": {
      "image/png": "[encoded data removed]",
      "text/plain": [
       "<Figure size 432x288 with 1 Axes>"
      ]
     },
     "metadata": {
      "needs_background": "light"
     },
     "output_type": "display_data"
    }
   ],
   "source": [
    "import pandas as pd\n",
    "import seaborn as sns\n",
    "import matplotlib.pyplot as plt\n",
    "\n",
    "dfw = pd.read_csv(\"./WSRTdf.csv\")\n",
    "myfmcolor = sns.color_palette(['#4695d6','#fa6e57','#7ebc59','#fed95c'])\n",
    "sns.set_palette(myfmcolor)\n",
    "sns.boxplot(y='value', x='type', data=dfw)\n",
    "plt.show()"
   ]
  },
  {
   "cell_type": "code",
   "execution_count": 10,
   "metadata": {},
   "outputs": [
    {
     "data": {
      "text/html": [
       "<div>\n",
       "<style scoped>\n",
       "    .dataframe tbody tr th:only-of-type {\n",
       "        vertical-align: middle;\n",
       "    }\n",
       "\n",
       "    .dataframe tbody tr th {\n",
       "        vertical-align: top;\n",
       "    }\n",
       "\n",
       "    .dataframe thead th {\n",
       "        text-align: right;\n",
       "    }\n",
       "</style>\n",
       "<table border=\"1\" class=\"dataframe\">\n",
       "  <thead>\n",
       "    <tr style=\"text-align: right;\">\n",
       "      <th></th>\n",
       "      <th>student</th>\n",
       "      <th>mathematics</th>\n",
       "      <th>science</th>\n",
       "    </tr>\n",
       "  </thead>\n",
       "  <tbody>\n",
       "    <tr>\n",
       "      <th>0</th>\n",
       "      <td>1</td>\n",
       "      <td>20</td>\n",
       "      <td>21</td>\n",
       "    </tr>\n",
       "    <tr>\n",
       "      <th>1</th>\n",
       "      <td>2</td>\n",
       "      <td>13</td>\n",
       "      <td>13</td>\n",
       "    </tr>\n",
       "    <tr>\n",
       "      <th>2</th>\n",
       "      <td>3</td>\n",
       "      <td>30</td>\n",
       "      <td>36</td>\n",
       "    </tr>\n",
       "    <tr>\n",
       "      <th>3</th>\n",
       "      <td>4</td>\n",
       "      <td>14</td>\n",
       "      <td>19</td>\n",
       "    </tr>\n",
       "    <tr>\n",
       "      <th>4</th>\n",
       "      <td>5</td>\n",
       "      <td>16</td>\n",
       "      <td>20</td>\n",
       "    </tr>\n",
       "    <tr>\n",
       "      <th>5</th>\n",
       "      <td>6</td>\n",
       "      <td>12</td>\n",
       "      <td>15</td>\n",
       "    </tr>\n",
       "    <tr>\n",
       "      <th>6</th>\n",
       "      <td>7</td>\n",
       "      <td>25</td>\n",
       "      <td>23</td>\n",
       "    </tr>\n",
       "    <tr>\n",
       "      <th>7</th>\n",
       "      <td>8</td>\n",
       "      <td>29</td>\n",
       "      <td>27</td>\n",
       "    </tr>\n",
       "    <tr>\n",
       "      <th>8</th>\n",
       "      <td>9</td>\n",
       "      <td>17</td>\n",
       "      <td>14</td>\n",
       "    </tr>\n",
       "    <tr>\n",
       "      <th>9</th>\n",
       "      <td>10</td>\n",
       "      <td>26</td>\n",
       "      <td>29</td>\n",
       "    </tr>\n",
       "  </tbody>\n",
       "</table>\n",
       "</div>"
      ],
      "text/plain": [
       "   student  mathematics  science\n",
       "0        1           20       21\n",
       "1        2           13       13\n",
       "2        3           30       36\n",
       "3        4           14       19\n",
       "4        5           16       20\n",
       "5        6           12       15\n",
       "6        7           25       23\n",
       "7        8           29       27\n",
       "8        9           17       14\n",
       "9       10           26       29"
      ]
     },
     "execution_count": 10,
     "metadata": {},
     "output_type": "execute_result"
    }
   ],
   "source": [
    "import pandas as pd\n",
    "\n",
    "df = pd.read_csv(\"./students.csv\")\n",
    "df"
   ]
  },
  {
   "cell_type": "code",
   "execution_count": 28,
   "metadata": {},
   "outputs": [
    {
     "data": {
      "text/html": [
       "<div>\n",
       "<style scoped>\n",
       "    .dataframe tbody tr th:only-of-type {\n",
       "        vertical-align: middle;\n",
       "    }\n",
       "\n",
       "    .dataframe tbody tr th {\n",
       "        vertical-align: top;\n",
       "    }\n",
       "\n",
       "    .dataframe thead th {\n",
       "        text-align: right;\n",
       "    }\n",
       "</style>\n",
       "<table border=\"1\" class=\"dataframe\">\n",
       "  <thead>\n",
       "    <tr style=\"text-align: right;\">\n",
       "      <th></th>\n",
       "      <th>student</th>\n",
       "      <th>mathematics</th>\n",
       "      <th>science</th>\n",
       "    </tr>\n",
       "  </thead>\n",
       "  <tbody>\n",
       "    <tr>\n",
       "      <th>student</th>\n",
       "      <td>1.000000</td>\n",
       "      <td>0.260606</td>\n",
       "      <td>0.187879</td>\n",
       "    </tr>\n",
       "    <tr>\n",
       "      <th>mathematics</th>\n",
       "      <td>0.260606</td>\n",
       "      <td>1.000000</td>\n",
       "      <td>0.890909</td>\n",
       "    </tr>\n",
       "    <tr>\n",
       "      <th>science</th>\n",
       "      <td>0.187879</td>\n",
       "      <td>0.890909</td>\n",
       "      <td>1.000000</td>\n",
       "    </tr>\n",
       "  </tbody>\n",
       "</table>\n",
       "</div>"
      ],
      "text/plain": [
       "              student  mathematics   science\n",
       "student      1.000000     0.260606  0.187879\n",
       "mathematics  0.260606     1.000000  0.890909\n",
       "science      0.187879     0.890909  1.000000"
      ]
     },
     "execution_count": 28,
     "metadata": {},
     "output_type": "execute_result"
    }
   ],
   "source": [
    "import pandas as pd\n",
    "\n",
    "df = pd.read_csv(\"./students.csv\")\n",
    "df.corr(method ='spearman')\n",
    "\n",
    "\n"
   ]
  },
  {
   "cell_type": "code",
   "execution_count": 9,
   "metadata": {},
   "outputs": [
    {
     "name": "stdout",
     "output_type": "stream",
     "text": [
      "[5, 1, 1.4, 1, 0.9, 1, 1, 1.1, 1, 0.9, 1, 1.1, 1, 1, 0.9, 1, 1, 1.1, 5, 5, 1, 1, 1.1, 0.9, 1, 1.1, 1, 1, 0.9, 1, 1.1, 1, 1, 1.1, 1, 0.8, 0.9, 1, 1.2, 0.9, 1, 1, 1.1, 1.2, 1, 1.5, 1, 1.1, 0.9, 8, 3, 2, 1, 1, 1, 0.9, 1, 1, 3, 2.6, 7, 3, 3.2, 2, 1, 1, 0.8, 4, 4, 2, 2.5, 1, 1, 1]\n",
      "[2, 18, 38, 43, 45, 49, 58, 60, 62, 67, 70]\n",
      "0 2 1.4\n",
      "1 18 5\n",
      "2 38 1.2\n",
      "3 43 1.2\n",
      "4 45 1.5\n",
      "5 49 8\n",
      "6 58 3\n",
      "7 60 7\n",
      "8 62 3.2\n",
      "9 67 4\n",
      "10 70 2.5\n"
     ]
    },
    {
     "data": {
      "image/png": "[encoded data removed]",
      "text/plain": [
       "<Figure size 576x288 with 1 Axes>"
      ]
     },
     "metadata": {
      "needs_background": "light"
     },
     "output_type": "display_data"
    }
   ],
   "source": [
    "import matplotlib.pyplot as plt\n",
    "\n",
    "x=[5,1,1.4,1,0.9,1,1,1.1,1,0.9,1,1.1,1,1,0.9,1,1,1.1,5,5,1,1,1.1,0.9,1,1.1,1,1,0.9,1,1.1,1,1,1.1,1,0.8,0.9,1,1.2,0.9,1,1,1.1,1.2,1,1.5,1,1.1,0.9,8,3,2,1,1,1,0.9,1,1,3,2.6,7,3,3.2,2,1,1,0.8,4,4,2,2.5,1,1,1]\n",
    "mph = 1.2\n",
    "mingap = 0.0\n",
    "\n",
    "nelem = len(x)\n",
    "ndiff = nelem-1\n",
    "diff = []\n",
    "for i in range(0, ndiff):\n",
    "    diff.append(float(x[i+1] - x[i]))\n",
    "#print(x)\n",
    "#print(diff)\n",
    "rising = diff[:]\n",
    "rising.insert(0,0)\n",
    "decreasing = diff[:]\n",
    "decreasing.append(0)\n",
    "\n",
    "peaks = []\n",
    "for i in range(0, nelem):\n",
    "    if(rising[i] > 0 and decreasing[i] <= 0):   # = to keep first of a plateau\n",
    "        peaks.append(i)\n",
    "#print(peaks, len(peaks))\n",
    "#peaks higher than minimumpeakheight mph\n",
    "for p in reversed(peaks):\n",
    "    if x[p] < mph:\n",
    "        peaks.remove(p)\n",
    "#print(peaks)\n",
    "npeaks = len(peaks)\n",
    "#print(peaks, len(peaks))\n",
    "\n",
    "#peaks higher than surrounding gap\n",
    "for i in range(npeaks-1,-1,-1):\n",
    "    if not(abs(x[peaks[i]] - x[peaks[i]-1]) > mingap and abs(x[peaks[i]] - x[peaks[i]+1]) > mingap):\n",
    "        # to keep first of a plateau\n",
    "        if not (abs(x[peaks[i]] - x[peaks[i]-1]) > mingap and x[peaks[i]] == x[peaks[i]+1]):\n",
    "            peaks.remove(peaks[i])\n",
    "\n",
    "print(x)\n",
    "print(peaks)\n",
    "npeaks = len(peaks)\n",
    "\n",
    "for i in range(0, npeaks):\n",
    "    print(i, peaks[i], x[peaks[i]])\n",
    "    \n",
    "\n",
    "\n",
    "#plot\n",
    "_, ax = plt.subplots(1, 1, figsize=(8, 4))\n",
    "no_ax = True\n",
    "#plot values\n",
    "ax.plot(x, 'b', lw=1)\n",
    "label = 'peak'\n",
    "label = label + 's' if npeaks > 1 else label\n",
    "#plot peaks\n",
    "ax.plot(peaks, [x[i] for i in peaks], '+', mfc=None, mec='r', mew=2, ms=8,label='%d %s' % (npeaks, label))\n",
    "ax.legend(loc='best', framealpha=.5, numpoints=1)\n",
    "ax.set_xlim(-.02*nelem, nelem*1.02-1)\n",
    "ymin, ymax = min(x), max(x)\n",
    "yrange = ymax - ymin if ymax > ymin else 1\n",
    "ax.set_ylim(ymin - 0.1*yrange, ymax + 0.1*yrange)\n",
    "ax.set_xlabel('Data #', fontsize=14)\n",
    "ax.set_ylabel('Amplitude', fontsize=14)\n",
    "plt.show()"
   ]
  },
  {
   "cell_type": "markdown",
   "metadata": {},
   "source": [
    "\n"
   ]
  }
 ],
 "metadata": {
  "kernelspec": {
   "display_name": "Python 3",
   "language": "python",
   "name": "python3"
  },
  "language_info": {
   "codemirror_mode": {
    "name": "ipython",
    "version": 3
   },
   "file_extension": ".py",
   "mimetype": "text/x-python",
   "name": "python",
   "nbconvert_exporter": "python",
   "pygments_lexer": "ipython3",
   "version": "3.8.3"
  }
 },
 "nbformat": 4,
 "nbformat_minor": 4
}
