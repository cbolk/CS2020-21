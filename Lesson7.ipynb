{
 "cells": [
  {
   "cell_type": "markdown",
   "metadata": {},
   "source": [
    "# Lesson 7\n",
    "+ dictionary\n"
   ]
  },
  {
   "cell_type": "markdown",
   "metadata": {},
   "source": [
    "Dictionaries are mappings between keys and items stored in the dictionaries. Unlike lists and tuples, dictionaries are unordered. Alternatively one can think of dictionaries as sets in which something stored against every element of the set. \n",
    "\n",
    "They can be defined as follows:\n",
    "\n",
    "``d = dict()``\n",
    "``d = {}``\n",
    "\n",
    "Dictionaries can be defined by using the ``{ key : value }`` syntax. \n",
    "\n",
    "The ordering for a dictionary is not based on the order in which elements are added but on its own ordering (based on hash index ordering). It is best never to assume an ordering when iterating over elements of a dictionary.\n",
    "\n",
    "To add an element:\n",
    "\n",
    "``d[key] = value``\n"
   ]
  },
  {
   "cell_type": "markdown",
   "metadata": {},
   "source": [
    "### Reverse complement\n",
    "Create a dictionary to be able to handle the computation of the reverse complement of a DNA sequence.\n",
    "Write a function that receives in input a string and computes and returns its reverse complement.\n",
    "Write a program that asks the user a sequence and - by using the previously defined function - computes and outputs its reverse complement.\n",
    "\n",
    "Input: ``GGGGaaaaaaaatttatatat``\n",
    "\n",
    "Output: ``atatataaattttttttCCCC``"
   ]
  },
  {
   "cell_type": "code",
   "execution_count": 11,
   "metadata": {},
   "outputs": [
    {
     "name": "stdout",
     "output_type": "stream",
     "text": [
      "GGGGaaaaaaaatttatatat\n",
      "atatataaattttttttCCCC\n"
     ]
    }
   ],
   "source": [
    "DNACOMPLEMENT = {'A': 'T', 'C': 'G', 'G': 'C', 'T': 'A', 'a': 't', 'c': 'g', 'g': 'c', 't': 'a'}\n",
    "\n",
    "def computeReverseComplement(seq):\n",
    "    rcseq = \"\"\n",
    "    size = len(seq)\n",
    "    for i in range(size-1,-1,-1):\n",
    "        chinseq = seq[i]\n",
    "        chcompl = DNACOMPLEMENT.get(chinseq)\n",
    "        rcseq += chcompl\n",
    "    return rcseq\n",
    "\n",
    "inseq = raw_input()\n",
    "revcomp = computeReverseComplement(inseq)\n",
    "print(revcomp)\n"
   ]
  },
  {
   "cell_type": "markdown",
   "metadata": {},
   "source": [
    "### Palindrome Neuclotid Sequence\n",
    "Write a program that receives in input a sequence of 6 neuclotids and computes and outputs True if it is a palindrome with respect to DNA sequence matching (the reverse complement is identical to the sequence itself). \n",
    "Use the previously developed function.\n",
    "\n",
    "For example: CACGTG is a palindrome"
   ]
  },
  {
   "cell_type": "code",
   "execution_count": 14,
   "metadata": {},
   "outputs": [
    {
     "name": "stdout",
     "output_type": "stream",
     "text": [
      "CACGTG\n",
      "CACGTG\n",
      "CACGTG\n",
      "True\n"
     ]
    }
   ],
   "source": [
    "DNACOMPLEMENT = {'A': 'T', 'C': 'G', 'G': 'C', 'T': 'A', 'a': 't', 'c': 'g', 'g': 'c', 't': 'a'}\n",
    "\n",
    "def computeReverseComplement(seq):\n",
    "    rcseq = \"\"\n",
    "    size = len(seq)\n",
    "    for i in range(size-1,-1,-1):\n",
    "        chinseq = seq[i]\n",
    "        chcompl = DNACOMPLEMENT.get(chinseq)\n",
    "        rcseq += chcompl\n",
    "    return rcseq\n",
    "\n",
    "def isPalindrome4matching_slow(seq):\n",
    "    revcomp = computeReverseComplement(seq)\n",
    "    print(revcomp)\n",
    "    size = len(revcomp)\n",
    "    for i in range(0, size):\n",
    "        if revcomp[i] != seq[i]:\n",
    "            return False\n",
    "    return True\n",
    "\n",
    "inseq = raw_input()\n",
    "ris = isPalindrome4matching_slow(inseq)\n",
    "print(ris)"
   ]
  },
  {
   "cell_type": "markdown",
   "metadata": {},
   "source": [
    "### Loading a dictionary from file\n",
    "Write a function that receives in input the name of a file containing - separated by commas - the information on amino acids codes, and create and returns a dictionary, having as a key the three charactera encoding (all capitals), and as values the single character.\n",
    "\n",
    "File structure:\n",
    "Name,Abbr.,Molecular Weight,Molecular Formula,Residue Formula,Residue Weight,pKa,pKb,pKx,pl\n",
    "Alanine,Ala,A,89.10,C3H7NO2,C3H5NO,71.08,2.34,9.69,–,6.00\n",
    "Arginine,Arg,R,174.20,C6H14N4O2,C6H12N4O,156.19,2.17,9.04,12.48,10.76\n",
    "Asparagine,Asn,N,132.12,C4H8N2O3,C4H6N2O2,114.11,2.02,8.80,–,5.41\n",
    "Aspartic acid,Asp,D,133.11,C4H7NO4,C4H5NO3,115.09,1.88,9.60,3.65,2.77\n",
    "\n",
    "Expected output:\n",
    "amino_dict = {'ALA':'A','ARG':'R','ASN':'N','ASP':'D','CYS':'C','GLY':'G','GLN':'Q','GLU':'E','HIS':'H','ILE':'I','LEU':'L','LYS':'K','MET':'M','PHE':'F','PRO':'P','SER':'S','THR':'T','TRP':'W','TYR':'Y','VAL':'V'}"
   ]
  },
  {
   "cell_type": "code",
   "execution_count": 7,
   "metadata": {},
   "outputs": [
    {
     "name": "stdout",
     "output_type": "stream",
     "text": [
      "{'ILE': 'I', 'GLN': 'Q', 'HYP': 'O', 'GLY': 'G', 'GLP': 'U', 'GLU': 'E', 'CYS': 'C', 'ASP': 'D', 'SER': 'S', 'LYS': 'K', 'PRO': 'P', 'ASN': 'N', 'VAL': 'V', 'THR': 'T', 'HIS': 'H', 'TRP': 'W', 'PHE': 'F', 'ALA': 'A', 'MET': 'M', 'LEU': 'L', 'ARG': 'R', 'TYR': 'Y'}\n",
      "{'ILE': ['Isoleucine', 'Ile', 'I', '131.18', 'C6H13NO2', 'C6H11NO', '113.16', '2.36', '9.60', '\\xe2\\x80\\x93', '6.02'], 'GLN': ['Glutamine', 'Gln', 'Q', '146.15', 'C5H10N2O3', 'C5H8N2O2', '128.13', '2.17', '9.13', '\\xe2\\x80\\x93', '5.65'], 'HYP': ['Hydroxyproline', 'Hyp', 'O', '131.13', 'C5H9NO3', 'C5H7NO2', '113.11', '1.82', '9.65', '\\xe2\\x80\\x93', '\\xe2\\x80\\x93'], 'GLY': ['Glycine', 'Gly', 'G', '75.07', 'C2H5NO2', 'C2H3NO', '57.05', '2.34', '9.60', '\\xe2\\x80\\x93', '5.97'], 'GLP': ['Pyroglutamatic', 'Glp', 'U', '139.11', 'C5H7NO3', 'C5H5NO2', '121.09', '\\xe2\\x80\\x93', '\\xe2\\x80\\x93', '\\xe2\\x80\\x93', '5.68'], 'GLU': ['Glutamic acid', 'Glu', 'E', '147.13', 'C5H9NO4', 'C5H7NO3', '129.12', '2.19', '9.67', '4.25', '3.22'], 'CYS': ['Cysteine', 'Cys', 'C', '121.16', 'C3H7NO2S', 'C3H5NOS', '103.15', '1.96', '10.28', '8.18', '5.07'], 'ASP': ['Aspartic acid', 'Asp', 'D', '133.11', 'C4H7NO4', 'C4H5NO3', '115.09', '1.88', '9.60', '3.65', '2.77'], 'SER': ['Serine', 'Ser', 'S', '105.09', 'C3H7NO3', 'C3H5NO2', '87.08', '2.21', '9.15', '\\xe2\\x80\\x93', '5.68'], 'LYS': ['Lysine', 'Lys', 'K', '146.19', 'C6H14N2O2', 'C6H12N2O', '128.18', '2.18', '8.95', '10.53', '9.74'], 'PRO': ['Proline', 'Pro', 'P', '115.13', 'C5H9NO2', 'C5H7NO', '97.12', '1.99', '10.60', '\\xe2\\x80\\x93', '6.30'], 'ASN': ['Asparagine', 'Asn', 'N', '132.12', 'C4H8N2O3', 'C4H6N2O2', '114.11', '2.02', '8.80', '\\xe2\\x80\\x93', '5.41'], 'VAL': ['Valine', 'Val', 'V', '117.15', 'C5H11NO2', 'C5H9NO', '99.13', '2.32', '9.62', '\\xe2\\x80\\x93', '5.96'], 'THR': ['Threonine', 'Thr', 'T', '119.12', 'C4H9NO3', 'C4H7NO2', '101.11', '2.09', '9.10', '\\xe2\\x80\\x93', '5.60'], 'HIS': ['Histidine', 'His', 'H', '155.16', 'C6H9N3O2', 'C6H7N3O', '137.14', '1.82', '9.17', '6.00', '7.59'], 'TRP': ['Tryptophan', 'Trp', 'W', '204.23', 'C11H12N2O2', 'C11H10N2O', '186.22', '2.83', '9.39', '\\xe2\\x80\\x93', '5.89'], 'PHE': ['Phenylalanine', 'Phe', 'F', '165.19', 'C9H11NO2', 'C9H9NO', '147.18', '1.83', '9.13', '\\xe2\\x80\\x93', '5.48'], 'ALA': ['Alanine', 'Ala', 'A', '89.10', 'C3H7NO2', 'C3H5NO', '71.08', '2.34', '9.69', '\\xe2\\x80\\x93', '6.00'], 'MET': ['Methionine', 'Met', 'M', '149.21', 'C5H11NO2S', 'C5H9NOS', '131.20', '2.28', '9.21', '\\xe2\\x80\\x93', '5.74'], 'LEU': ['Leucine', 'Leu', 'L', '131.18', 'C6H13NO2', 'C6H11NO', '113.16', '2.36', '9.60', '\\xe2\\x80\\x93', '5.98'], 'ARG': ['Arginine', 'Arg', 'R', '174.20', 'C6H14N4O2', 'C6H12N4O', '156.19', '2.17', '9.04', '12.48', '10.76'], 'TYR': ['Tyrosine', 'Tyr', 'Y', '181.19', 'C9H11NO3', 'C9H9NO2', '163.18', '2.20', '9.11', '10.07', '5.66']}\n"
     ]
    }
   ],
   "source": [
    "def loadAminoDictionary(filename):\n",
    "    fin = open(filename, \"r\")\n",
    "    header = fin.readline()  #read and discard first line\n",
    "    aadict = {}\n",
    "    fullinfo = {}\n",
    "    for line in fin:\n",
    "        aminoline = line.strip()\n",
    "        aminoinfo = aminoline.split(\",\") # aminoinfo = line.strip().split(\",\")\n",
    "        #print(aminoinfo)\n",
    "        #['Alanine', 'Ala', 'A', '89.10', 'C3H7NO2', 'C3H5NO', '71.08', '2.34', '9.69', '\\xe2\\x80\\x93', '6.00']\n",
    "        aadict[aminoinfo[1].upper()] = aminoinfo[2].upper()\n",
    "        fullinfo[aminoinfo[1].upper()] = aminoinfo\n",
    "    fin.close()\n",
    "    return aadict, fullinfo\n",
    "        \n",
    "srcfile = \"amino_acids_table.csv\"\n",
    "d, dall = loadAminoDictionary(srcfile)\n",
    "print(d)\n",
    "print(dall)\n"
   ]
  },
  {
   "cell_type": "markdown",
   "metadata": {},
   "source": [
    "### \n",
    "Write a function that receives in input the name of a file storing in a csv format the codon amino acids correspondence and returns a dictionary, having as a key the triplet and as a value the amino acid.\n",
    "Write a function that receives in input a DNA sequence and compute and returns the corresponding xxx.\n",
    "Write a program that receives in input the name of a file storing a RNA sequence in the FASTA format, and the name where to save the results, and computes the protein (to be saved in the file) and outputs codon usage statistics. \n",
    "The file containing the encoding is called \"codon.csv\"\n",
    "\n",
    "\n",
    "Codon table (linearized):\n",
    "\n",
    "GCU,A\n",
    "GCC,A\n",
    "GCA,A\n",
    "GCG,A\n",
    "CGU,R\n",
    "CGC,R\n",
    "...\n",
    "\n",
    "FASTA file:\n",
    "\n",
    ">A06662 Synthetic nucleotide sequence of the human GSH transferase pi gene. : Location:1..1000\n",
    "UGGGACCAGUCAGCAGAGGCAGCGUGUGUGCGCGUGCGUGUGCGUGUGUGUGCGUGUGUG\n",
    "UGUGUACGCUUGCAUUUGUGUCGGGUGGGUAAGGAGAUAGAGAUGGGCGGGCAGUAGGCC\n",
    "...\n",
    "\n",
    "Output file:\n",
    "\n"
   ]
  },
  {
   "cell_type": "code",
   "execution_count": 17,
   "metadata": {},
   "outputs": [
    {
     "name": "stdout",
     "output_type": "stream",
     "text": [
      "['GCC', 'A']\n",
      "['GCA', 'A']\n",
      "['GCG', 'A']\n",
      "['CGU', 'R']\n",
      "['CGC', 'R']\n",
      "['CGA', 'R']\n",
      "['CGG', 'R']\n",
      "['AGA', 'R']\n",
      "['AGG', 'R']\n",
      "['UCU', 'S']\n",
      "['UCC', 'S']\n",
      "['UCA', 'S']\n",
      "['UCG', 'S']\n",
      "['AGU', 'S']\n",
      "['AGC', 'S']\n",
      "['AUU', 'I']\n",
      "['AUC', 'I']\n",
      "['AUA', 'I']\n",
      "['AUU', 'I']\n",
      "['AUC', 'I']\n",
      "['AUA', 'I']\n",
      "['UUA', 'L']\n",
      "['UUG', 'L']\n",
      "['CUU', 'L']\n",
      "['CUC', 'L']\n",
      "['CUA', 'L']\n",
      "['CUG', 'L']\n",
      "['GGU', 'G']\n",
      "['GGC', 'G']\n",
      "['GGA', 'G']\n",
      "['GGG', 'G']\n",
      "['AAU', 'N']\n",
      "['AAC', 'N']\n",
      "['GUU', 'V']\n",
      "['GUC', 'V']\n",
      "['GUA', 'V']\n",
      "['GUG', 'V']\n",
      "['GAU', 'D']\n",
      "['GAC', 'D']\n",
      "['ACU', 'T']\n",
      "['ACC', 'T']\n",
      "['ACA', 'T']\n",
      "['ACG', 'T']\n",
      "['UGU', 'C']\n",
      "['UGC', 'C']\n",
      "['CCU', 'P']\n",
      "['CCC', 'P']\n",
      "['CCA', 'P']\n",
      "['CCG', 'P']\n",
      "['CAA', 'Q']\n",
      "['CAG', 'Q']\n",
      "['GAA', 'E']\n",
      "['GAG', 'E']\n",
      "['CAU', 'H']\n",
      "['CAC', 'H']\n",
      "['AAA', 'K']\n",
      "['AAG', 'K']\n",
      "['UUU', 'F']\n",
      "['UUC', 'F']\n",
      "['UAU', 'Y']\n",
      "['UAC', 'Y']\n",
      "['AUG', 'M']\n",
      "['UGG', 'W']\n",
      "['AUG', 'START']\n",
      "['UAG', 'STOP']\n",
      "['UGA', 'STOP']\n",
      "['UAA', 'STOP']\n",
      "{'GUC': 'V', 'AUA': 'I', 'GUA': 'V', 'GUG': 'V', 'ACU': 'T', 'AAC': 'N', 'AGG': 'R', 'UGG': 'W', 'UAG': 'STOP', 'AGC': 'S', 'CUU': 'L', 'AGA': 'R', 'AAU': 'N', 'GUU': 'V', 'CAC': 'H', 'ACG': 'T', 'AGU': 'S', 'CCA': 'P', 'ACA': 'T', 'CCC': 'P', 'GGU': 'G', 'UCU': 'S', 'AUG': 'START', 'CGA': 'R', 'CAG': 'Q', 'CGC': 'R', 'UAU': 'Y', 'CGG': 'R', 'UCG': 'S', 'CCU': 'P', 'GGG': 'G', 'UCC': 'S', 'UCA': 'S', 'GAA': 'E', 'CCG': 'P', 'GGA': 'G', 'UAC': 'Y', 'CGU': 'R', 'ACC': 'T', 'GCA': 'A', 'GCC': 'A', 'GGC': 'G', 'GCG': 'A', 'UGA': 'STOP', 'AUC': 'I', 'CUG': 'L', 'GAG': 'E', 'CUC': 'L', 'CAU': 'H', 'CUA': 'L', 'UAA': 'STOP', 'AAA': 'K', 'AAG': 'K', 'CAA': 'Q', 'UUU': 'F', 'GAC': 'D', 'UGC': 'C', 'UGU': 'C', 'AUU': 'I', 'UUG': 'L', 'UUA': 'L', 'GAU': 'D', 'UUC': 'F'}\n"
     ]
    }
   ],
   "source": [
    "CODONTABLEFILE = \"codon.csv\"\n",
    "\n",
    "def loadCodonAminoDictionary(filename):\n",
    "    fin = open(filename, \"r\")\n",
    "    header = fin.readline()  #read and discard first line\n",
    "    dict = {}\n",
    "    for line in fin:\n",
    "        line = line.strip()\n",
    "        info = line.split(\",\") # aminoinfo = line.strip().split(\",\")\n",
    "        #print(info)\n",
    "        #['GCU' , 'A']\n",
    "        dict[info[0].upper()] = info[1].upper()\n",
    "    fin.close()\n",
    "    return dict\n",
    "\n",
    "codondict = loadCodonAminoDictionary(CODONTABLEFILE)\n",
    "print(codondict)"
   ]
  },
  {
   "cell_type": "code",
   "execution_count": 40,
   "metadata": {},
   "outputs": [
    {
     "name": "stdout",
     "output_type": "stream",
     "text": [
      "{'ACC': 'T', 'AUA': 'I', 'AAG': 'K', 'AAA': 'K', 'GUU': 'V', 'AAC': 'N', 'AGG': 'R', 'UAU': 'Y', 'GUC': 'V', 'UAG': 'STOP', 'AGC': 'S', 'AUC': 'I', 'AGA': 'R', 'AAU': 'N', 'AGU': 'S', 'ACU': 'T', 'GUG': 'V', 'CAC': 'H', 'ACG': 'T', 'CAA': 'Q', 'CAG': 'Q', 'CCG': 'P', 'CCC': 'P', 'GGU': 'G', 'UCU': 'S', 'AUG': 'M', 'CGA': 'R', 'CCA': 'P', 'CGC': 'R', 'UGG': 'W', 'CGG': 'R', 'UCG': 'S', 'CCU': 'P', 'GGG': 'G', 'GGA': 'G', 'GGC': 'G', 'GAG': 'E', 'UCC': 'S', 'UAC': 'Y', 'GAC': 'D', 'GAA': 'E', 'GCA': 'A', 'GCC': 'A', 'CUU': 'L', 'UCA': 'S', 'GCG': 'A', 'UGA': 'STOP', 'CUG': 'L', 'UAA': 'STOP', 'AUU': 'I', 'CAU': 'H', 'CUA': 'L', 'UUU': 'F', 'CGU': 'R', 'GUA': 'V', 'UGC': 'C', 'UGU': 'C', 'ACA': 'T', 'CUC': 'L', 'UUG': 'L', 'UUA': 'L', 'GAU': 'D', 'UUC': 'F'}\n"
     ]
    }
   ],
   "source": [
    "CODONTABLEFILE = \"codon.csv\"\n",
    "\n",
    "def loadCodonAminoDictionary(filename):\n",
    "    fin = open(filename, \"r\")\n",
    "    header = fin.readline()  #read and discard first line\n",
    "    cadict = {}\n",
    "    for line in fin:\n",
    "        line = line.strip()\n",
    "        info = line.split(\",\") # aminoinfo = line.strip().split(\",\")\n",
    "        #print(info)\n",
    "        #['GCU' , 'A']\n",
    "        cadict[info[0].upper()] = info[1].upper()\n",
    "    fin.close()\n",
    "    return cadict\n",
    "\n",
    "codondict = loadCodonAminoDictionary(CODONTABLEFILE)\n",
    "print(codondict)"
   ]
  },
  {
   "cell_type": "markdown",
   "metadata": {},
   "source": [
    "### Translating RNA into Protein\n",
    "The 20 commonly occurring amino acids are abbreviated by using 20 letters from the English alphabet (all letters except for B, J, O, U, X, and Z). Protein strings are constructed from these 20 symbols. Henceforth, the term *genetic string* will incorporate protein strings along with DNA strings and RNA strings.\n",
    "\n",
    "The RNA codon table dictates the details regarding the encoding of specific codons into the amino acid alphabet.\n",
    "\n",
    "Input: An RNA string s corresponding to a strand of mRNA (of length at most 10 kbp - 1 kbp = 1000 base pairs).\n",
    "\n",
    "Input: ``AUGGCCAUGGCGCCCAGAACUGAGAUCAAUAGUACCCGUAUUAACGGGUGA``\n",
    "Output: ``MAMAPRTEINSTRING``"
   ]
  },
  {
   "cell_type": "code",
   "execution_count": 41,
   "metadata": {},
   "outputs": [
    {
     "name": "stdout",
     "output_type": "stream",
     "text": [
      "AUGGCCAUGGCGCCCAGAACUGAGAUCAAUAGUACCCGUAUUAACGGGUGA\n",
      "MAMAPRTEINSTRING\n"
     ]
    }
   ],
   "source": [
    "CODONTABLEFILE = \"codon.csv\"\n",
    "\n",
    "def loadCodonAminoDictionary(filename):\n",
    "    fin = open(filename, \"r\")\n",
    "    header = fin.readline()  #read and discard first line\n",
    "    cadict = {}\n",
    "    for line in fin:\n",
    "        line = line.strip()\n",
    "        info = line.split(\",\") # aminoinfo = line.strip().split(\",\")\n",
    "        #print(info)\n",
    "        #['GCU' , 'A']\n",
    "        cadict[info[0].upper()] = info[1].upper()\n",
    "    fin.close()\n",
    "    return cadict\n",
    "\n",
    "def getProtein(seq, codict):\n",
    "    size = len(seq)\n",
    "    prot = \"\"\n",
    "    for i in range(0, size, 3):    #three elements at a time\n",
    "        triplet = seq[i:i+3]  #UGG\n",
    "        if codict.has_key(triplet):\n",
    "            corr = codict.get(triplet)\n",
    "            if corr != BEGIN and corr != END:\n",
    "                prot += codict.get(triplet)\n",
    "        else:\n",
    "            prot += UNKNOWN\n",
    "    return prot\n",
    "\n",
    "codondict = loadCodonAminoDictionary(CODONTABLEFILE)\n",
    "\n",
    "rnaseq = raw_input()\n",
    "protein = getProtein(rnaseq, codondict)\n",
    "print(protein)"
   ]
  },
  {
   "cell_type": "code",
   "execution_count": 28,
   "metadata": {},
   "outputs": [
    {
     "name": "stdout",
     "output_type": "stream",
     "text": [
      "WDQSAEAACVRVRVRVCACVCVRLHLCRVGKEIEGGQAQVPKALNPLVWSLLRAGAIEKSEQGCVGLEGSSREASSK*FAIIWENPARDRQNGIESWQLKWTGFGTSLVVGSKQRRIWDSGGLAWGRRGCLRGWEGEDDTWWCLAGGGQGLCEGTARATEAFDP*VPEPGRQDLHCGRPGEHLA\n"
     ]
    }
   ],
   "source": [
    "CODONTABLEFILE = \"codon.csv\"\n",
    "UNKNOWN = \"*\"\n",
    "BEGIN = \"START\"\n",
    "END = \"STOP\"\n",
    "\n",
    "def loadCodonAminoDictionary(filename):\n",
    "    fin = open(filename, \"r\")\n",
    "    header = fin.readline()  #read and discard first line\n",
    "    cadict = {}\n",
    "    for line in fin:\n",
    "        line = line.strip()\n",
    "        info = line.split(\",\") # aminoinfo = line.strip().split(\",\")\n",
    "        #print(info)\n",
    "        #['GCU' , 'A']\n",
    "        cadict[info[0].upper()] = info[1].upper()\n",
    "    fin.close()\n",
    "    return cadict\n",
    "\n",
    "def loadFasta(filename):\n",
    "    fin = open(filename, \"r\")\n",
    "    header = fin.readline() #header\n",
    "    seq = \"\"\n",
    "    for line in fin: \n",
    "        seq += line.strip()\n",
    "    fin.close()\n",
    "    return seq\n",
    "\n",
    "def getProtein(seq, codict):\n",
    "    size = len(seq)\n",
    "    prot = \"\"\n",
    "    for i in range(0, size, 3):    #three elements at a time\n",
    "        triplet = seq[i:i+3]  #UGG\n",
    "        if codict.has_key(triplet):\n",
    "            corr = codict.get(triplet)\n",
    "            if corr != BEGIN and corr != END:\n",
    "                prot += codict.get(triplet)\n",
    "        else:\n",
    "            prot += UNKNOWN\n",
    "    return prot\n",
    "            \n",
    "\n",
    "codondict = loadCodonAminoDictionary(CODONTABLEFILE)\n",
    "srcFile = \"rnaseq.FASTA\" #raw_input()\n",
    "dstFile = \"protein_seq.FASTA\" #raw_input()\n",
    "rnaseq = loadFasta(srcFile)\n",
    "protein = getProtein(rnaseq, codondict)\n",
    "print(protein)\n",
    "\n"
   ]
  },
  {
   "cell_type": "code",
   "execution_count": 38,
   "metadata": {},
   "outputs": [],
   "source": [
    "CODONTABLEFILE = \"codon.csv\"\n",
    "UNKNOWN = \"*\"\n",
    "BEGIN = \"START\"\n",
    "END = \"STOP\"\n",
    "\n",
    "def loadCodonAminoDictionary(filename):\n",
    "    fin = open(filename, \"r\")\n",
    "    header = fin.readline()  #read and discard first line\n",
    "    cadict = {}\n",
    "    for line in fin:\n",
    "        line = line.strip()\n",
    "        info = line.split(\",\") # aminoinfo = line.strip().split(\",\")\n",
    "        #print(info)\n",
    "        #['GCU' , 'A']\n",
    "        cadict[info[0].upper()] = info[1].upper()\n",
    "    fin.close()\n",
    "    return cadict\n",
    "\n",
    "def loadFasta(filename):\n",
    "    fin = open(filename, \"r\")\n",
    "    header = fin.readline() #header\n",
    "    seq = \"\"\n",
    "    for line in fin: \n",
    "        seq += line.strip()\n",
    "    fin.close()\n",
    "    return seq\n",
    "\n",
    "def getProtein(seq, codict):\n",
    "    size = len(seq)\n",
    "    prot = \"\"\n",
    "    for i in range(0, size, 3):    #three elements at a time\n",
    "        triplet = seq[i:i+3]  #UGG\n",
    "        if codict.has_key(triplet):\n",
    "            corr = codict.get(triplet)\n",
    "            if corr != BEGIN and corr != END:\n",
    "                prot += codict.get(triplet)\n",
    "        else:\n",
    "            prot += UNKNOWN\n",
    "    return prot\n",
    "            \n",
    "\n",
    "codondict = loadCodonAminoDictionary(CODONTABLEFILE)\n",
    "srcFile = \"rnaseq.FASTA\" #raw_input()\n",
    "dstFile = \"protein_seq.FASTA\" #raw_input()\n",
    "rnaseq = loadFasta(srcFile)\n",
    "protein = getProtein(rnaseq, codondict)\n",
    "fout = open(dstFile, \"w\")\n",
    "fout.write(protein)\n",
    "fout.close()\n"
   ]
  },
  {
   "cell_type": "markdown",
   "metadata": {},
   "source": [
    "Modify the previous program to extract the name of the gene to be written in the output file as ``gene_protein`` as a first line, and translete three subsequent frames, writing x-frame before the frame"
   ]
  },
  {
   "cell_type": "code",
   "execution_count": 39,
   "metadata": {},
   "outputs": [
    {
     "name": "stdout",
     "output_type": "stream",
     "text": [
      "MAMAPRTEINSTRINGSTOP\n"
     ]
    }
   ],
   "source": [
    "CODONTABLEFILE = \"codon.csv\"\n",
    "UNKNOWN = \"*\"\n",
    "BEGIN = \"START\"\n",
    "END = \"STOP\"\n",
    "GENEUNKNOWN = \"unknown\"\n",
    "\n",
    "def loadCodonAminoDictionary(filename):\n",
    "    fin = open(filename, \"r\")\n",
    "    header = fin.readline()  #read and discard first line\n",
    "    cadict = {}\n",
    "    for line in fin:\n",
    "        line = line.strip()\n",
    "        info = line.split(\",\") # aminoinfo = line.strip().split(\",\")\n",
    "        #print(info)\n",
    "        #['GCU' , 'A']\n",
    "        cadict[info[0].upper()] = info[1].upper()\n",
    "    fin.close()\n",
    "    return cadict\n",
    "\n",
    "def loadFasta(filename):\n",
    "    fin = open(filename, \"r\")\n",
    "    header = fin.readline() #header\n",
    "    if header[0] == '>':\n",
    "        geneinfo = header.split()\n",
    "        gene = geneinfo[0]\n",
    "    else:\n",
    "        gene = GENEUNKNOWN\n",
    "    seq = \"\"\n",
    "    for line in fin: \n",
    "        seq += line.strip()\n",
    "    fin.close()\n",
    "    return gene, seq\n",
    "\n",
    "def getProtein(seq, startat, codict):\n",
    "    size = len(seq)\n",
    "    prot = \"\"\n",
    "    for i in range(startat, size, 3):    #three elements at a time\n",
    "        triplet = seq[i:i+3]  #UGG\n",
    "        if codict.has_key(triplet):\n",
    "#            corr = codict.get(triplet)\n",
    "#            if corr != BEGIN and corr != END:\n",
    "                prot += codict.get(triplet)\n",
    "        else:\n",
    "            prot += UNKNOWN\n",
    "    return prot\n",
    "\n",
    "            \n",
    "\n",
    "codondict = loadCodonAminoDictionary(CODONTABLEFILE)\n",
    "srcFile = \"rnaseq.FASTA\" #raw_input()\n",
    "dstFile = \"protein_seq_3.FASTA\" #raw_input()\n",
    "genename, rnaseq = loadFasta(srcFile)\n",
    "fout = open(dstFile, \"w\")\n",
    "fout.write(genename + \"_protein\\n\")\n",
    "for i in range(0,3):\n",
    "    protein = getProtein(rnaseq, i, codondict)\n",
    "    fout.write(str(i) + \"-frame\\n\")\n",
    "    fout.write(protein + \"\\n\")\n",
    "fout.close()\n"
   ]
  },
  {
   "cell_type": "markdown",
   "metadata": {},
   "source": []
  },
  {
   "cell_type": "code",
   "execution_count": null,
   "metadata": {},
   "outputs": [],
   "source": []
  }
 ],
 "metadata": {
  "kernelspec": {
   "display_name": "Python 2",
   "language": "python",
   "name": "python2"
  },
  "language_info": {
   "codemirror_mode": {
    "name": "ipython",
    "version": 2
   },
   "file_extension": ".py",
   "mimetype": "text/x-python",
   "name": "python",
   "nbconvert_exporter": "python",
   "pygments_lexer": "ipython2",
   "version": "2.7.16"
  }
 },
 "nbformat": 4,
 "nbformat_minor": 2
}
