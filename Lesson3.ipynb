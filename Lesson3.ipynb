{
 "cells": [
  {
   "cell_type": "markdown",
   "metadata": {},
   "source": [
    "# Lesson 3 - 2020-10-27\n",
    "\n",
    "- statement `while`"
   ]
  },
  {
   "cell_type": "markdown",
   "metadata": {},
   "source": [
    "### Number of digits\n",
    "Write a program that receives in input a positive integer value and outputs the number of digits it consists of."
   ]
  },
  {
   "cell_type": "code",
   "execution_count": 4,
   "metadata": {},
   "outputs": [
    {
     "name": "stdout",
     "output_type": "stream",
     "text": [
      "123456789987\n",
      "12\n"
     ]
    }
   ],
   "source": [
    "BASE = 10\n",
    "\n",
    "val = input()\n",
    "\n",
    "ndigits = 0\n",
    "while val > 0:\n",
    "    ndigits = ndigits + 1\n",
    "    val = val / BASE\n",
    "\n",
    "print(ndigits)"
   ]
  },
  {
   "cell_type": "markdown",
   "metadata": {},
   "source": [
    "### Number of digits for a real number\n",
    "Write a program that receives in input a positive real value and outputs the number of digits it consists of."
   ]
  },
  {
   "cell_type": "code",
   "execution_count": 6,
   "metadata": {},
   "outputs": [
    {
     "name": "stdout",
     "output_type": "stream",
     "text": [
      "354.589\n",
      "3\n",
      "0.589\n",
      "5.89\n",
      "58.9\n",
      "589.0\n",
      "5890.0\n",
      "58900.0\n",
      "589000.0\n",
      "5890000.0\n",
      "58900000.0\n",
      "589000000.0\n",
      "5890000000.0\n",
      "58900000000.0\n",
      "5.89e+11\n",
      "5.89e+12\n",
      "5.89e+13\n",
      "5.89e+14\n",
      "19\n"
     ]
    }
   ],
   "source": [
    "BASE = 10\n",
    "\n",
    "val = input()\n",
    "\n",
    "integer = int(val)\n",
    "real = val - integer\n",
    "ndigits = 0\n",
    "while integer > 0:\n",
    "    ndigits = ndigits + 1\n",
    "    integer = integer / BASE\n",
    "print(ndigits)\n",
    "\n",
    "diff = real - int(real)\n",
    "while diff > 0:\n",
    "    ndigits = ndigits + 1\n",
    "    real = real * BASE\n",
    "    print (real + \" \")\n",
    "    diff = real - int(real)\n",
    "print(ndigits)\n"
   ]
  },
  {
   "cell_type": "code",
   "execution_count": null,
   "metadata": {},
   "outputs": [],
   "source": []
  }
 ],
 "metadata": {
  "kernelspec": {
   "display_name": "Python 2",
   "language": "python",
   "name": "python2"
  },
  "language_info": {
   "codemirror_mode": {
    "name": "ipython",
    "version": 2
   },
   "file_extension": ".py",
   "mimetype": "text/x-python",
   "name": "python",
   "nbconvert_exporter": "python",
   "pygments_lexer": "ipython2",
   "version": "2.7.15"
  }
 },
 "nbformat": 4,
 "nbformat_minor": 2
}
