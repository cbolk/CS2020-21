{
 "cells": [
  {
   "cell_type": "markdown",
   "metadata": {},
   "source": [
    "# Lesson 3 - 2020-10-27\n",
    "\n",
    "- statement `while`\n",
    "- statement `for`\n",
    "- strings"
   ]
  },
  {
   "cell_type": "markdown",
   "metadata": {},
   "source": [
    "### `while` statement\n",
    "`while test:\n",
    "    instructions\n",
    "`"
   ]
  },
  {
   "cell_type": "markdown",
   "metadata": {},
   "source": [
    "### Number of digits\n",
    "Write a program that receives in input a positive integer value and outputs the number of digits it consists of."
   ]
  },
  {
   "cell_type": "code",
   "execution_count": 4,
   "metadata": {},
   "outputs": [
    {
     "name": "stdout",
     "output_type": "stream",
     "text": [
      "123456789987\n",
      "12\n"
     ]
    }
   ],
   "source": [
    "BASE = 10\n",
    "\n",
    "val = int(raw_input())\n",
    "\n",
    "ndigits = 0\n",
    "while val > 0:\n",
    "    ndigits = ndigits + 1\n",
    "    val = val / BASE\n",
    "\n",
    "print(ndigits)"
   ]
  },
  {
   "cell_type": "markdown",
   "metadata": {},
   "source": [
    "### Number of digits for a real number\n",
    "Write a program that receives in input a positive real value and outputs the number of digits it consists of."
   ]
  },
  {
   "cell_type": "code",
   "execution_count": 8,
   "metadata": {
    "scrolled": true
   },
   "outputs": [
    {
     "name": "stdout",
     "output_type": "stream",
     "text": [
      "584.33\n",
      "3\n",
      "3.3 3\n",
      "33.0 33\n",
      "330.0 330\n",
      "3300.0 3300\n",
      "33000.0 33000\n",
      "330000.0 330000\n",
      "3300000.0 3300000\n",
      "33000000.0 33000000\n",
      "330000000.0 330000000\n",
      "3300000000.0 3300000000\n",
      "33000000000.0 33000000000\n",
      "3.3e+11 330000000000\n",
      "3.3e+12 3300000000000\n",
      "3.3e+13 33000000000004\n",
      "3.3e+14 330000000000040\n",
      "3.3e+15 3300000000000409\n",
      "3.3e+16 33000000000004096\n",
      "20\n"
     ]
    }
   ],
   "source": [
    "BASE = 10\n",
    "\n",
    "val = float(raw_input())\n",
    "\n",
    "integer = int(val)\n",
    "real = val - integer\n",
    "ndigits = 0\n",
    "while integer > 0:\n",
    "    ndigits = ndigits + 1\n",
    "    integer = integer / BASE\n",
    "print(ndigits)\n",
    "\n",
    "diff = real - int(real)\n",
    "while diff > 0:\n",
    "    ndigits = ndigits + 1\n",
    "    real = real * BASE\n",
    "    print (str(real) + \" \" + str(int(real)))\n",
    "    diff = real - int(real)\n",
    "print(ndigits)\n"
   ]
  },
  {
   "cell_type": "markdown",
   "metadata": {},
   "source": [
    "### Accept positive integers only\n",
    "Write a program that expects the user to input a *strictly* positive integer and until the user provides a compliant value, it repeats the request"
   ]
  },
  {
   "cell_type": "code",
   "execution_count": 1,
   "metadata": {},
   "outputs": [
    {
     "name": "stdout",
     "output_type": "stream",
     "text": [
      "-43\n",
      "-32\n",
      "0\n",
      "32\n"
     ]
    }
   ],
   "source": [
    "value = int(raw_input())\n",
    "while value <= 0:\n",
    "    value = int(raw_input())\n",
    "    "
   ]
  },
  {
   "cell_type": "markdown",
   "metadata": {},
   "source": [
    "### Round up or down\n",
    "Write a program that receives in input a character, that must be either '+' or '-' and if not, it repeat the acquisition. When the character is compliant, it receives a real value and computes and outputs its rounded value to the next integer or to the previous one, based on the initial character. \n",
    "For example, \n",
    "+ if the user inputs '+' 3.24 the program outputs 4\n",
    "+ if the user inputs '-' 3.24 the program outputs 3\n",
    "+ if the user inputs '+' 4 the program outputs 4\n",
    "+ if the user inputs '-' 4 the program outputs 4\n"
   ]
  },
  {
   "cell_type": "code",
   "execution_count": 5,
   "metadata": {},
   "outputs": [
    {
     "name": "stdout",
     "output_type": "stream",
     "text": [
      "-\n",
      "3.24\n",
      "3\n"
     ]
    }
   ],
   "source": [
    "UP = '+'\n",
    "DOWN = '-'\n",
    "\n",
    "upOrDown = raw_input()  #it is a character\n",
    "while upOrDown != UP and upOrDown != DOWN:\n",
    "    upOrDown = raw_input()\n",
    "    \n",
    "value = float(raw_input())\n",
    "valueint = int(value)\n",
    "if value != float(valueint):\n",
    "    if upOrDown == UP:\n",
    "        roundedvalue = valueint + 1\n",
    "    else:\n",
    "        roundedvalue = valueint\n",
    "else:\n",
    "    roundedvalue = valueint\n",
    "\n",
    "print(str(roundedvalue))"
   ]
  },
  {
   "cell_type": "markdown",
   "metadata": {},
   "source": [
    "### Fibonacci's numbers\n",
    "Write a program that asks the user the number of values of the Fibonacci's sequence to be computed and it outputs all of them. For example, if the user inputs 8, the program outputs 1 1 2 3 5 8 13 21 (the first 8 values of the sequence). Verify that the user provides a strictly positive value, and if not, ask the value again."
   ]
  },
  {
   "cell_type": "code",
   "execution_count": 8,
   "metadata": {},
   "outputs": [
    {
     "name": "stdout",
     "output_type": "stream",
     "text": [
      "10\n",
      "1\n",
      "1\n",
      "2\n",
      "3\n",
      "5\n",
      "8\n",
      "13\n",
      "21\n",
      "34\n",
      "55\n"
     ]
    }
   ],
   "source": [
    "numseq = int(raw_input())\n",
    "while numseq <= 0:\n",
    "    numseq = int(raw_input())\n",
    "\n",
    "if numseq == 1:\n",
    "    print(str(1))\n",
    "else:\n",
    "    prevalue = 1\n",
    "    value = 1\n",
    "    print(str(prevalue))\n",
    "    print(str(value))\n",
    "    cont = 2\n",
    "    while cont < numseq:\n",
    "        nextvalue = prevalue + value\n",
    "        prevalue = value\n",
    "        value = nextvalue\n",
    "        print(str(nextvalue))\n",
    "        cont = cont + 1\n",
    "    \n",
    "        "
   ]
  },
  {
   "cell_type": "markdown",
   "metadata": {},
   "source": [
    "### `for` statement\n",
    "`for target in iterable:\n",
    "    instructions\n",
    "`\n"
   ]
  },
  {
   "cell_type": "code",
   "execution_count": 9,
   "metadata": {},
   "outputs": [
    {
     "name": "stdout",
     "output_type": "stream",
     "text": [
      "10\n",
      "1\n",
      "1\n",
      "2\n",
      "3\n",
      "5\n",
      "8\n",
      "13\n",
      "21\n",
      "34\n",
      "55\n"
     ]
    }
   ],
   "source": [
    "numseq = int(raw_input())\n",
    "while numseq <= 0:\n",
    "    numseq = int(raw_input())\n",
    "\n",
    "if numseq == 1:\n",
    "    print(str(1))\n",
    "else:\n",
    "    prevalue = 1\n",
    "    value = 1\n",
    "    print(str(prevalue))\n",
    "    print(str(value))\n",
    "    for cont in range(2,numseq):\n",
    "        nextvalue = prevalue + value\n",
    "        prevalue = value\n",
    "        value = nextvalue\n",
    "        print(str(nextvalue))\n",
    "        cont = cont + 1"
   ]
  },
  {
   "cell_type": "code",
   "execution_count": 11,
   "metadata": {},
   "outputs": [
    {
     "name": "stdout",
     "output_type": "stream",
     "text": [
      "0\n",
      "10\n"
     ]
    }
   ],
   "source": [
    "for i in (0,10):\n",
    "    print(str(i))"
   ]
  },
  {
   "cell_type": "code",
   "execution_count": 10,
   "metadata": {},
   "outputs": [
    {
     "name": "stdout",
     "output_type": "stream",
     "text": [
      "0\n",
      "3\n",
      "6\n",
      "18\n",
      "7\n",
      "23\n"
     ]
    }
   ],
   "source": [
    "for i in (0,3,6,18,7,23):\n",
    "    print(str(i))\n",
    "    "
   ]
  },
  {
   "cell_type": "markdown",
   "metadata": {},
   "source": [
    "### Sum of digits\n",
    "Write a program that receives in input an integer and computes and outputs the sum of its digits. For example, if the user inputs 18, the program outputs 9. If the user inputs -385 the program computes and outputs 16."
   ]
  },
  {
   "cell_type": "code",
   "execution_count": 16,
   "metadata": {},
   "outputs": [
    {
     "name": "stdout",
     "output_type": "stream",
     "text": [
      "80\n",
      "8\n"
     ]
    }
   ],
   "source": [
    "BASE = 10\n",
    "\n",
    "value = int(raw_input())\n",
    "\n",
    "if value < 0:\n",
    "    absval = -value\n",
    "else:\n",
    "    absval = value\n",
    "\n",
    "tot = 0\n",
    "while absval > 0:\n",
    "    digit = absval % BASE\n",
    "    tot = tot + digit\n",
    "    absval = absval / BASE\n",
    "\n",
    "print(str(tot))\n"
   ]
  },
  {
   "cell_type": "markdown",
   "metadata": {},
   "source": [
    "### Palindrome number\n",
    "A palindrome is a word that is spelled backward and forward, such as \"noon\" or \"redivider\". A palindrome number has the same digits read from right to left and from left to right. For instance, 35653 is a palindrome number.\n",
    "Write a program that receives in input an integer and computes and outputs True if it is a palindrome number, False otherwise."
   ]
  },
  {
   "cell_type": "code",
   "execution_count": 18,
   "metadata": {},
   "outputs": [
    {
     "name": "stdout",
     "output_type": "stream",
     "text": [
      "3456543\n",
      "True\n"
     ]
    }
   ],
   "source": [
    "BASE = 10\n",
    "\n",
    "numi = int(raw_input())\n",
    "while numi <= 0:\n",
    "    numi = int(raw_input())\n",
    "\n",
    "tmp = numi / BASE\n",
    "maxp = 1\n",
    "while tmp > 0:\n",
    "    maxp = maxp * BASE\n",
    "    tmp = tmp / BASE\n",
    "# numi 123456\n",
    "# maxp 100000\n",
    "pal = True\n",
    "tmp = numi\n",
    "while pal and tmp > 0:\n",
    "    rightmost = tmp % BASE\n",
    "    leftmost = tmp / maxp\n",
    "    if rightmost != leftmost:\n",
    "        pal = False\n",
    "    else:\n",
    "        tmp = tmp % BASE  \n",
    "        tmp = tmp / BASE\n",
    "        maxp = maxp / (BASE*BASE)   # we have removed 2 digits\n",
    "print pal"
   ]
  },
  {
   "cell_type": "markdown",
   "metadata": {},
   "source": [
    "## Strings\n",
    "A string is a *sequence* of characters. It is possible to access each element in a string by means of the `[]` operator.\n"
   ]
  },
  {
   "cell_type": "code",
   "execution_count": 19,
   "metadata": {},
   "outputs": [
    {
     "name": "stdout",
     "output_type": "stream",
     "text": [
      "t\n"
     ]
    }
   ],
   "source": [
    "sequence = \"test me\"\n",
    "letter = sequence[0]\n",
    "print(letter)"
   ]
  },
  {
   "cell_type": "code",
   "execution_count": 20,
   "metadata": {},
   "outputs": [
    {
     "name": "stdout",
     "output_type": "stream",
     "text": [
      "e\n"
     ]
    }
   ],
   "source": [
    "sequence = \"test me\"\n",
    "letter = sequence[-1]\n",
    "print(letter)"
   ]
  },
  {
   "cell_type": "code",
   "execution_count": 23,
   "metadata": {},
   "outputs": [
    {
     "name": "stdout",
     "output_type": "stream",
     "text": [
      "st m\n"
     ]
    }
   ],
   "source": [
    "sequence = \"test me\"\n",
    "letter = sequence[2:6]\n",
    "print(letter)"
   ]
  },
  {
   "cell_type": "code",
   "execution_count": null,
   "metadata": {},
   "outputs": [],
   "source": []
  }
 ],
 "metadata": {
  "kernelspec": {
   "display_name": "Python 2",
   "language": "python",
   "name": "python2"
  },
  "language_info": {
   "codemirror_mode": {
    "name": "ipython",
    "version": 2
   },
   "file_extension": ".py",
   "mimetype": "text/x-python",
   "name": "python",
   "nbconvert_exporter": "python",
   "pygments_lexer": "ipython2",
   "version": "2.7.15"
  }
 },
 "nbformat": 4,
 "nbformat_minor": 2
}
